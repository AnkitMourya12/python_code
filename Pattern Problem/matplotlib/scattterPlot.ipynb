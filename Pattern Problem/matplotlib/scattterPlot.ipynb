{
 "cells": [
  {
   "cell_type": "code",
   "execution_count": 8,
   "id": "232fb6ee-f941-4a87-88d7-ba25c384f69b",
   "metadata": {},
   "outputs": [],
   "source": [
    "import matplotlib.pyplot as plt\n",
    "import pandas as pd\n"
   ]
  },
  {
   "cell_type": "code",
   "execution_count": 33,
   "id": "f1038e42-405c-4d8b-aa1a-6882af22df40",
   "metadata": {},
   "outputs": [
    {
     "ename": "NameError",
     "evalue": "name 'googleplaystore_user_reviews' is not defined",
     "output_type": "error",
     "traceback": [
      "\u001b[1;31m---------------------------------------------------------------------------\u001b[0m",
      "\u001b[1;31mNameError\u001b[0m                                 Traceback (most recent call last)",
      "Cell \u001b[1;32mIn[33], line 2\u001b[0m\n\u001b[0;32m      1\u001b[0m \u001b[38;5;66;03m# Dataset taken from kaggel.com\u001b[39;00m\n\u001b[1;32m----> 2\u001b[0m df_google_play_store_apps \u001b[38;5;241m=\u001b[39m pd\u001b[38;5;241m.\u001b[39mread_csv(\u001b[43mgoogleplaystore_user_reviews\u001b[49m\u001b[38;5;241m.\u001b[39mcsv)\n\u001b[0;32m      3\u001b[0m df_google_play_store_apps\u001b[38;5;241m.\u001b[39mshape \u001b[38;5;66;03m# Get shape of dataset in rows and colms\u001b[39;00m\n",
      "\u001b[1;31mNameError\u001b[0m: name 'googleplaystore_user_reviews' is not defined"
     ]
    }
   ],
   "source": [
    "# Dataset taken from kaggel.com\n",
    "df_google_play_store_apps = pd.read_csv(googleplaystore_user_reviews.csv)\n",
    "df_google_play_store_apps.shape # Get shape of dataset in rows and colms"
   ]
  }
 ],
 "metadata": {
  "kernelspec": {
   "display_name": "Python 3 (ipykernel)",
   "language": "python",
   "name": "python3"
  },
  "language_info": {
   "codemirror_mode": {
    "name": "ipython",
    "version": 3
   },
   "file_extension": ".py",
   "mimetype": "text/x-python",
   "name": "python",
   "nbconvert_exporter": "python",
   "pygments_lexer": "ipython3",
   "version": "3.11.0"
  }
 },
 "nbformat": 4,
 "nbformat_minor": 5
}
